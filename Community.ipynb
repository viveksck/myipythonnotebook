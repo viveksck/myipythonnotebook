{
 "metadata": {
  "name": ""
 },
 "nbformat": 3,
 "nbformat_minor": 0,
 "worksheets": [
  {
   "cells": [
    {
     "cell_type": "code",
     "collapsed": false,
     "input": [
      "import networkx as nx"
     ],
     "language": "python",
     "metadata": {},
     "outputs": [],
     "prompt_number": 44
    },
    {
     "cell_type": "code",
     "collapsed": false,
     "input": [
      "from io import open\n",
      "import sys\n",
      "from os import path\n",
      "from time import time\n",
      "import string\n",
      "import community\n",
      "import cPickle as pickle\n"
     ],
     "language": "python",
     "metadata": {},
     "outputs": [],
     "prompt_number": 45
    },
    {
     "cell_type": "code",
     "collapsed": false,
     "input": [
      "def load_edgelist(graph_file, comments=u'\u0646'):\n",
      "    start = time()\n",
      "    graph = nx.parse_edgelist(open(graph_file).readlines(), create_using=nx.DiGraph(),\n",
      "        data=(('weight', float), ('s_word', unicode), ('t_word', unicode),), comments=comments, nodetype=int)\n",
      "    print \"Loaded graph in %f\" % (time() - start)\n",
      "    return graph\n",
      "\n"
     ],
     "language": "python",
     "metadata": {},
     "outputs": [],
     "prompt_number": 3
    },
    {
     "cell_type": "code",
     "collapsed": false,
     "input": [
      "G = load_edgelist('/home/vvkulkarni/graphs/polyglot.20k.csv')"
     ],
     "language": "python",
     "metadata": {},
     "outputs": [
      {
       "output_type": "stream",
       "stream": "stdout",
       "text": [
        "Loaded graph in 13.652557\n"
       ]
      }
     ],
     "prompt_number": 4
    },
    {
     "cell_type": "code",
     "collapsed": false,
     "input": [
      "def knn_subgraph(digraph, k):\n",
      "    new_G = nx.DiGraph()\n",
      "    for node in digraph.nodes_iter():\n",
      "        neighbors = [(digraph.edge[node][neighbor]['weight'], node, neighbor, digraph.edge[node][neighbor])\n",
      "                     for neighbor in digraph.neighbors_iter(node)]\n",
      "        neighbors.sort()\n",
      "        for edge_attrs in neighbors[:k]:\n",
      "            w, node, neighbor, attrs = edge_attrs\n",
      "            new_G.add_edge(node, neighbor, attr_dict=attrs)\n",
      "    return new_G\n",
      "\n",
      "\n",
      "def strong_subgraph(digraph, threshold):\n",
      "  new_G = nx.DiGraph()\n",
      "  for node in digraph.nodes_iter():\n",
      "    new_G.add_node(node)\n",
      "    for neighbor in digraph.neighbors_iter(node):\n",
      "      weight = digraph.edge[node][neighbor]['weight']\n",
      "      if weight > threshold:\n",
      "        continue\n",
      "      attrs = digraph.edge[node][neighbor]\n",
      "      new_G.add_edge(node, neighbor, attr_dict=attrs)\n",
      "  return new_G\n"
     ],
     "language": "python",
     "metadata": {},
     "outputs": [],
     "prompt_number": 6
    },
    {
     "cell_type": "code",
     "collapsed": false,
     "input": [
      "sizes = range(2, 11)\n",
      "graphs_k1 = []\n",
      "ugraphs_k1 = []\n",
      "components_k1 = []\n",
      "UGraph_Sizes = {}\n",
      "for size in sizes:\n",
      "    new_g = knn_subgraph(G, size)\n",
      "    new_ug = new_g.to_undirected()\n",
      "    graphs_k1.append(new_g)\n",
      "    ugraphs_k1.append(new_ug)\n",
      "    components_k1.append(nx.connected_components(new_ug))\n",
      "    UGraph_Sizes[size] = new_ug\n",
      "    #nx.write_graphml(new_ug, \"graph20K\" + str(size) + \".xml\")\n"
     ],
     "language": "python",
     "metadata": {},
     "outputs": [],
     "prompt_number": 7
    },
    {
     "cell_type": "code",
     "collapsed": false,
     "input": [
      "def Modularity(G):\n",
      "    partition = community.best_partition(G)\n",
      "    modularity =  community.modularity(partition, G)\n",
      "    return modularity\n",
      "\n",
      "def Dendogram(G):\n",
      "    dendogram = community.generate_dendogram(G)\n",
      "    return dendogram"
     ],
     "language": "python",
     "metadata": {},
     "outputs": [],
     "prompt_number": 36
    },
    {
     "cell_type": "code",
     "collapsed": false,
     "input": [
      "modularity_map = {}\n",
      "for size, graph in UGraph_Sizes.items():\n",
      "    Gcc=nx.connected_component_subgraphs(graph)\n",
      "    G0=Gcc[0]\n",
      "    modularity_map[size] = Modularity(G0)\n",
      "    print size, len(Gcc), Modularity(G0)"
     ],
     "language": "python",
     "metadata": {},
     "outputs": [
      {
       "output_type": "stream",
       "stream": "stdout",
       "text": [
        "2 33 "
       ]
      },
      {
       "output_type": "stream",
       "stream": "stdout",
       "text": [
        "0.852327924553\n",
        "3"
       ]
      },
      {
       "output_type": "stream",
       "stream": "stdout",
       "text": [
        " 8 "
       ]
      },
      {
       "output_type": "stream",
       "stream": "stdout",
       "text": [
        "0.811762975519\n",
        "4"
       ]
      },
      {
       "output_type": "stream",
       "stream": "stdout",
       "text": [
        " 3 "
       ]
      },
      {
       "output_type": "stream",
       "stream": "stdout",
       "text": [
        "0.804529128112\n",
        "5"
       ]
      },
      {
       "output_type": "stream",
       "stream": "stdout",
       "text": [
        " 2 "
       ]
      },
      {
       "output_type": "stream",
       "stream": "stdout",
       "text": [
        "0.803188288719\n",
        "6"
       ]
      },
      {
       "output_type": "stream",
       "stream": "stdout",
       "text": [
        " 2 "
       ]
      },
      {
       "output_type": "stream",
       "stream": "stdout",
       "text": [
        "0.799869588473\n",
        "7"
       ]
      },
      {
       "output_type": "stream",
       "stream": "stdout",
       "text": [
        " 2 "
       ]
      },
      {
       "output_type": "stream",
       "stream": "stdout",
       "text": [
        "0.800797158731\n",
        "8"
       ]
      },
      {
       "output_type": "stream",
       "stream": "stdout",
       "text": [
        " 1 "
       ]
      },
      {
       "output_type": "stream",
       "stream": "stdout",
       "text": [
        "0.796555827036\n",
        "9"
       ]
      },
      {
       "output_type": "stream",
       "stream": "stdout",
       "text": [
        " 1 "
       ]
      },
      {
       "output_type": "stream",
       "stream": "stdout",
       "text": [
        "0.790427210528\n",
        "10"
       ]
      },
      {
       "output_type": "stream",
       "stream": "stdout",
       "text": [
        " 1 "
       ]
      },
      {
       "output_type": "stream",
       "stream": "stdout",
       "text": [
        "0.789397359407\n",
        "11"
       ]
      },
      {
       "output_type": "stream",
       "stream": "stdout",
       "text": [
        " 1 "
       ]
      },
      {
       "output_type": "stream",
       "stream": "stdout",
       "text": [
        "0.787537148962\n",
        "12"
       ]
      },
      {
       "output_type": "stream",
       "stream": "stdout",
       "text": [
        " 1 "
       ]
      },
      {
       "output_type": "stream",
       "stream": "stdout",
       "text": [
        "0.787404026406\n",
        "13"
       ]
      },
      {
       "output_type": "stream",
       "stream": "stdout",
       "text": [
        " 1 "
       ]
      },
      {
       "output_type": "stream",
       "stream": "stdout",
       "text": [
        "0.78492979195\n",
        "14"
       ]
      },
      {
       "output_type": "stream",
       "stream": "stdout",
       "text": [
        " 1 "
       ]
      },
      {
       "output_type": "stream",
       "stream": "stdout",
       "text": [
        "0.781176738186\n",
        "15"
       ]
      },
      {
       "output_type": "stream",
       "stream": "stdout",
       "text": [
        " 1 "
       ]
      },
      {
       "output_type": "stream",
       "stream": "stdout",
       "text": [
        "0.777688181387\n",
        "16"
       ]
      },
      {
       "output_type": "stream",
       "stream": "stdout",
       "text": [
        " 1 "
       ]
      },
      {
       "output_type": "stream",
       "stream": "stdout",
       "text": [
        "0.774324349737\n",
        "17"
       ]
      },
      {
       "output_type": "stream",
       "stream": "stdout",
       "text": [
        " 1 "
       ]
      },
      {
       "output_type": "stream",
       "stream": "stdout",
       "text": [
        "0.768948989379\n",
        "18"
       ]
      },
      {
       "output_type": "stream",
       "stream": "stdout",
       "text": [
        " 1 "
       ]
      },
      {
       "output_type": "stream",
       "stream": "stdout",
       "text": [
        "0.766465333456\n",
        "19"
       ]
      },
      {
       "output_type": "stream",
       "stream": "stdout",
       "text": [
        " 1 "
       ]
      },
      {
       "output_type": "stream",
       "stream": "stdout",
       "text": [
        "0.768484460238\n",
        "20"
       ]
      },
      {
       "output_type": "stream",
       "stream": "stdout",
       "text": [
        " 1 "
       ]
      },
      {
       "output_type": "stream",
       "stream": "stdout",
       "text": [
        "0.765299974693\n"
       ]
      }
     ],
     "prompt_number": 34
    },
    {
     "cell_type": "code",
     "collapsed": false,
     "input": [
      "get_ipython().magic(u'pylab inline')"
     ],
     "language": "python",
     "metadata": {},
     "outputs": [
      {
       "output_type": "stream",
       "stream": "stdout",
       "text": [
        "Populating the interactive namespace from numpy and matplotlib\n"
       ]
      },
      {
       "output_type": "stream",
       "stream": "stderr",
       "text": [
        "WARNING: pylab import has clobbered these variables: ['size']\n",
        "`%pylab --no-import-all` prevents importing * from pylab and numpy\n"
       ]
      }
     ],
     "prompt_number": 30
    },
    {
     "cell_type": "code",
     "collapsed": false,
     "input": [
      "print modularity_map\n",
      "plot(modularity_map.keys(),modularity_map.values(),'o-')\n",
      "xlabel('NN')\n",
      "ylabel('Modularity')\n",
      "title('Modularity versus NN')"
     ],
     "language": "python",
     "metadata": {},
     "outputs": [
      {
       "output_type": "stream",
       "stream": "stdout",
       "text": [
        "{2: 0.8523279245530075, 3: 0.8117629755188169, 4: 0.8045291281123771, 5: 0.8031882887192967, 6: 0.7998695884728699, 7: 0.8007971587309849, 8: 0.7965558270362592, 9: 0.7904272105281325, 10: 0.7893973594068611, 11: 0.7875371489615685, 12: 0.7874040264061642, 13: 0.7849297919499041, 14: 0.7811767381864304, 15: 0.7776881813866978, 16: 0.7743243497373758, 17: 0.7689489893787292, 18: 0.7664653334558191, 19: 0.7684844602377284, 20: 0.7652999746929494}\n"
       ]
      },
      {
       "metadata": {},
       "output_type": "pyout",
       "prompt_number": 35,
       "text": [
        "<matplotlib.text.Text at 0x5504a050>"
       ]
      },
      {
       "metadata": {},
       "output_type": "display_data",
       "png": "[encoded data removed]",
       "text": [
        "<matplotlib.figure.Figure at 0xbabfe90>"
       ]
      }
     ],
     "prompt_number": 35
    },
    {
     "cell_type": "code",
     "collapsed": false,
     "input": [
      "dendogram_map = {}\n",
      "for size, graph in UGraph_Sizes.items():\n",
      "    dendogram = Dendogram(graph)\n",
      "    dendogram_map[size] = dendogram\n",
      "pickle.dump(dendogram_map, open(\"DendogramPolyglot20K.pkl\",\"wb\"))\n"
     ],
     "language": "python",
     "metadata": {},
     "outputs": [
      {
       "ename": "TypeError",
       "evalue": "argument must have 'write' attribute",
       "output_type": "pyerr",
       "traceback": [
        "\u001b[1;31m---------------------------------------------------------------------------\u001b[0m\n\u001b[1;31mTypeError\u001b[0m                                 Traceback (most recent call last)",
        "\u001b[1;32m<ipython-input-38-c53b9225ca6d>\u001b[0m in \u001b[0;36m<module>\u001b[1;34m()\u001b[0m\n\u001b[0;32m      3\u001b[0m     \u001b[0mdendogram\u001b[0m \u001b[1;33m=\u001b[0m \u001b[0mDendogram\u001b[0m\u001b[1;33m(\u001b[0m\u001b[0mgraph\u001b[0m\u001b[1;33m)\u001b[0m\u001b[1;33m\u001b[0m\u001b[0m\n\u001b[0;32m      4\u001b[0m     \u001b[0mdendogram_map\u001b[0m\u001b[1;33m[\u001b[0m\u001b[0msize\u001b[0m\u001b[1;33m]\u001b[0m \u001b[1;33m=\u001b[0m \u001b[0mdendogram\u001b[0m\u001b[1;33m\u001b[0m\u001b[0m\n\u001b[1;32m----> 5\u001b[1;33m \u001b[0mpickle\u001b[0m\u001b[1;33m.\u001b[0m\u001b[0mdump\u001b[0m\u001b[1;33m(\u001b[0m\u001b[0mdendogram_map\u001b[0m\u001b[1;33m,\u001b[0m \u001b[1;34m\"DendogramPolyglot20K.pkl\"\u001b[0m\u001b[1;33m)\u001b[0m\u001b[1;33m\u001b[0m\u001b[0m\n\u001b[0m",
        "\u001b[1;31mTypeError\u001b[0m: argument must have 'write' attribute"
       ]
      }
     ],
     "prompt_number": 38
    },
    {
     "cell_type": "code",
     "collapsed": false,
     "input": [
      "def CalculateAvgShortestPath(G, src_vertex):\n",
      "    sp = nx.single_source_shortest_path_length(G, source=src_vertex)\n",
      "    return numpy.mean(sp.values())\n",
      "\n",
      "def CalculateAvgSP(G):\n",
      "    print G.number_of_nodes()\n",
      "    sources = numpy.random.choice(G.nodes(), size = 100)\n",
      "    source_map = {}\n",
      "    for source in sources:\n",
      "        source_map[source] = CalculateAvgShortestPath(G, source)\n",
      "    \n",
      "    return source_map"
     ],
     "language": "python",
     "metadata": {},
     "outputs": [],
     "prompt_number": 8
    },
    {
     "cell_type": "code",
     "collapsed": false,
     "input": [
      "mean_shortest_map = {}\n",
      "for size, graph in UGraph_Sizes.items():\n",
      "    #Get the giant connected graph\n",
      "    Gcc=nx.connected_component_subgraphs(UGraph_Sizes[size])\n",
      "    G0=Gcc[0]\n",
      "    avg_path = numpy.mean(CalculateAvgSP(G0).values())\n",
      "    mean_shortest_map[size] = avg_path"
     ],
     "language": "python",
     "metadata": {},
     "outputs": [
      {
       "output_type": "stream",
       "stream": "stdout",
       "text": [
        "19838\n",
        "19958"
       ]
      },
      {
       "output_type": "stream",
       "stream": "stdout",
       "text": [
        "\n",
        "19983"
       ]
      },
      {
       "output_type": "stream",
       "stream": "stdout",
       "text": [
        "\n",
        "19988"
       ]
      },
      {
       "output_type": "stream",
       "stream": "stdout",
       "text": [
        "\n",
        "19988"
       ]
      },
      {
       "output_type": "stream",
       "stream": "stdout",
       "text": [
        "\n",
        "19988"
       ]
      },
      {
       "output_type": "stream",
       "stream": "stdout",
       "text": [
        "\n",
        "20000"
       ]
      },
      {
       "output_type": "stream",
       "stream": "stdout",
       "text": [
        "\n",
        "20000"
       ]
      },
      {
       "output_type": "stream",
       "stream": "stdout",
       "text": [
        "\n",
        "20000"
       ]
      },
      {
       "output_type": "stream",
       "stream": "stdout",
       "text": [
        "\n"
       ]
      }
     ],
     "prompt_number": 9
    },
    {
     "cell_type": "code",
     "collapsed": false,
     "input": [
      "print mean_shortest_map"
     ],
     "language": "python",
     "metadata": {},
     "outputs": [
      {
       "output_type": "stream",
       "stream": "stdout",
       "text": [
        "{2: 13.487736162919647, 3: 9.7743957310351739, 4: 8.0970880248210957, 5: 7.3702921753051829, 6: 6.6803472083249913, 7: 6.3280643386031601, 8: 5.8972215000000014, 9: 5.7701489898989884, 10: 5.4819820000000012}\n"
       ]
      }
     ],
     "prompt_number": 11
    },
    {
     "cell_type": "code",
     "collapsed": false,
     "input": [
      "plot(mean_shortest_map.keys(), mean_shortest_map.values(), 'o')\n",
      "title('Plot of Average shortest path length versus NN')"
     ],
     "language": "python",
     "metadata": {},
     "outputs": [
      {
       "metadata": {},
       "output_type": "pyout",
       "prompt_number": 12,
       "text": [
        "<matplotlib.text.Text at 0x48d94390>"
       ]
      },
      {
       "metadata": {},
       "output_type": "display_data",
       "png": "[encoded data removed]",
       "text": [
        "<matplotlib.figure.Figure at 0x1f32a2d0>"
       ]
      }
     ],
     "prompt_number": 12
    },
    {
     "cell_type": "code",
     "collapsed": false,
     "input": [
      "# Generate random graphs"
     ],
     "language": "python",
     "metadata": {},
     "outputs": [],
     "prompt_number": 10
    },
    {
     "cell_type": "code",
     "collapsed": false,
     "input": [
      "random_graphs_map = {}\n",
      "for size, graph in UGraph_Sizes.items():\n",
      "    L = []\n",
      "    for num in numpy.arange(0,10):\n",
      "        rg = nx.gnm_random_graph(graph.number_of_nodes(), graph.number_of_edges())\n",
      "        L.append(rg)\n",
      "    random_graphs_map[size] = L\n"
     ],
     "language": "python",
     "metadata": {},
     "outputs": [],
     "prompt_number": 13
    },
    {
     "cell_type": "code",
     "collapsed": false,
     "input": [
      "avg_sp_random_graphs = {}\n",
      "for size, list_graphs in random_graphs_map.items():\n",
      "    print \"Processing size\", size\n",
      "    output_list = []\n",
      "    #Process each graph and obtain its average path length\n",
      "    for graph in list_graphs:\n",
      "            RGcc=nx.connected_component_subgraphs(graph)\n",
      "            RG0=RGcc[0]\n",
      "            avg_path = numpy.mean(CalculateAvgSP(RG0).values())\n",
      "            output_list.append(avg_path)\n",
      "    #Store output for the size and proceed to next size\n",
      "    avg_sp_random_graphs[size] = output_list"
     ],
     "language": "python",
     "metadata": {},
     "outputs": [
      {
       "output_type": "stream",
       "stream": "stdout",
       "text": [
        "Processing size 2\n",
        "19194"
       ]
      },
      {
       "output_type": "stream",
       "stream": "stdout",
       "text": [
        "\n",
        "19143"
       ]
      },
      {
       "output_type": "stream",
       "stream": "stdout",
       "text": [
        "\n",
        "19148"
       ]
      },
      {
       "output_type": "stream",
       "stream": "stdout",
       "text": [
        "\n",
        "19135"
       ]
      },
      {
       "output_type": "stream",
       "stream": "stdout",
       "text": [
        "\n",
        "19155"
       ]
      },
      {
       "output_type": "stream",
       "stream": "stdout",
       "text": [
        "\n",
        "19138"
       ]
      },
      {
       "output_type": "stream",
       "stream": "stdout",
       "text": [
        "\n",
        "19141"
       ]
      },
      {
       "output_type": "stream",
       "stream": "stdout",
       "text": [
        "\n",
        "19163"
       ]
      },
      {
       "output_type": "stream",
       "stream": "stdout",
       "text": [
        "\n",
        "19197"
       ]
      },
      {
       "output_type": "stream",
       "stream": "stdout",
       "text": [
        "\n",
        "19140"
       ]
      },
      {
       "output_type": "stream",
       "stream": "stdout",
       "text": [
        "\n",
        "Processing size"
       ]
      },
      {
       "output_type": "stream",
       "stream": "stdout",
       "text": [
        " 3\n",
        "19853"
       ]
      },
      {
       "output_type": "stream",
       "stream": "stdout",
       "text": [
        "\n",
        "19833"
       ]
      },
      {
       "output_type": "stream",
       "stream": "stdout",
       "text": [
        "\n",
        "19850"
       ]
      },
      {
       "output_type": "stream",
       "stream": "stdout",
       "text": [
        "\n",
        "19851"
       ]
      },
      {
       "output_type": "stream",
       "stream": "stdout",
       "text": [
        "\n",
        "19840"
       ]
      },
      {
       "output_type": "stream",
       "stream": "stdout",
       "text": [
        "\n",
        "19854"
       ]
      },
      {
       "output_type": "stream",
       "stream": "stdout",
       "text": [
        "\n",
        "19861"
       ]
      },
      {
       "output_type": "stream",
       "stream": "stdout",
       "text": [
        "\n",
        "19875"
       ]
      },
      {
       "output_type": "stream",
       "stream": "stdout",
       "text": [
        "\n",
        "19839"
       ]
      },
      {
       "output_type": "stream",
       "stream": "stdout",
       "text": [
        "\n",
        "19864"
       ]
      },
      {
       "output_type": "stream",
       "stream": "stdout",
       "text": [
        "\n",
        "Processing size"
       ]
      },
      {
       "output_type": "stream",
       "stream": "stdout",
       "text": [
        " 4\n",
        "19977"
       ]
      },
      {
       "output_type": "stream",
       "stream": "stdout",
       "text": [
        "\n",
        "19980"
       ]
      },
      {
       "output_type": "stream",
       "stream": "stdout",
       "text": [
        "\n",
        "19973"
       ]
      },
      {
       "output_type": "stream",
       "stream": "stdout",
       "text": [
        "\n",
        "19967"
       ]
      },
      {
       "output_type": "stream",
       "stream": "stdout",
       "text": [
        "\n",
        "19965"
       ]
      },
      {
       "output_type": "stream",
       "stream": "stdout",
       "text": [
        "\n",
        "19965"
       ]
      },
      {
       "output_type": "stream",
       "stream": "stdout",
       "text": [
        "\n",
        "19979"
       ]
      },
      {
       "output_type": "stream",
       "stream": "stdout",
       "text": [
        "\n",
        "19967"
       ]
      },
      {
       "output_type": "stream",
       "stream": "stdout",
       "text": [
        "\n",
        "19967"
       ]
      },
      {
       "output_type": "stream",
       "stream": "stdout",
       "text": [
        "\n",
        "19975"
       ]
      },
      {
       "output_type": "stream",
       "stream": "stdout",
       "text": [
        "\n",
        "Processing size"
       ]
      },
      {
       "output_type": "stream",
       "stream": "stdout",
       "text": [
        " 5\n",
        "19994"
       ]
      },
      {
       "output_type": "stream",
       "stream": "stdout",
       "text": [
        "\n",
        "19994"
       ]
      },
      {
       "output_type": "stream",
       "stream": "stdout",
       "text": [
        "\n",
        "19993"
       ]
      },
      {
       "output_type": "stream",
       "stream": "stdout",
       "text": [
        "\n",
        "19994"
       ]
      },
      {
       "output_type": "stream",
       "stream": "stdout",
       "text": [
        "\n",
        "19989"
       ]
      },
      {
       "output_type": "stream",
       "stream": "stdout",
       "text": [
        "\n",
        "19994"
       ]
      },
      {
       "output_type": "stream",
       "stream": "stdout",
       "text": [
        "\n",
        "19994"
       ]
      },
      {
       "output_type": "stream",
       "stream": "stdout",
       "text": [
        "\n",
        "19990"
       ]
      },
      {
       "output_type": "stream",
       "stream": "stdout",
       "text": [
        "\n",
        "19990"
       ]
      },
      {
       "output_type": "stream",
       "stream": "stdout",
       "text": [
        "\n",
        "19997"
       ]
      },
      {
       "output_type": "stream",
       "stream": "stdout",
       "text": [
        "\n",
        "Processing size"
       ]
      },
      {
       "output_type": "stream",
       "stream": "stdout",
       "text": [
        " 6\n",
        "19999"
       ]
      },
      {
       "output_type": "stream",
       "stream": "stdout",
       "text": [
        "\n",
        "20000"
       ]
      },
      {
       "output_type": "stream",
       "stream": "stdout",
       "text": [
        "\n",
        "19997"
       ]
      },
      {
       "output_type": "stream",
       "stream": "stdout",
       "text": [
        "\n",
        "19997"
       ]
      },
      {
       "output_type": "stream",
       "stream": "stdout",
       "text": [
        "\n",
        "19998"
       ]
      },
      {
       "output_type": "stream",
       "stream": "stdout",
       "text": [
        "\n",
        "19999"
       ]
      },
      {
       "output_type": "stream",
       "stream": "stdout",
       "text": [
        "\n",
        "19998"
       ]
      },
      {
       "output_type": "stream",
       "stream": "stdout",
       "text": [
        "\n",
        "19999"
       ]
      },
      {
       "output_type": "stream",
       "stream": "stdout",
       "text": [
        "\n",
        "19999"
       ]
      },
      {
       "output_type": "stream",
       "stream": "stdout",
       "text": [
        "\n",
        "20000"
       ]
      },
      {
       "output_type": "stream",
       "stream": "stdout",
       "text": [
        "\n",
        "Processing size"
       ]
      },
      {
       "output_type": "stream",
       "stream": "stdout",
       "text": [
        " 7\n",
        "20000"
       ]
      },
      {
       "output_type": "stream",
       "stream": "stdout",
       "text": [
        "\n",
        "20000"
       ]
      },
      {
       "output_type": "stream",
       "stream": "stdout",
       "text": [
        "\n",
        "20000"
       ]
      },
      {
       "output_type": "stream",
       "stream": "stdout",
       "text": [
        "\n",
        "20000"
       ]
      },
      {
       "output_type": "stream",
       "stream": "stdout",
       "text": [
        "\n",
        "20000"
       ]
      },
      {
       "output_type": "stream",
       "stream": "stdout",
       "text": [
        "\n",
        "20000"
       ]
      },
      {
       "output_type": "stream",
       "stream": "stdout",
       "text": [
        "\n",
        "20000"
       ]
      },
      {
       "output_type": "stream",
       "stream": "stdout",
       "text": [
        "\n",
        "19999"
       ]
      },
      {
       "output_type": "stream",
       "stream": "stdout",
       "text": [
        "\n",
        "20000"
       ]
      },
      {
       "output_type": "stream",
       "stream": "stdout",
       "text": [
        "\n",
        "20000"
       ]
      },
      {
       "output_type": "stream",
       "stream": "stdout",
       "text": [
        "\n",
        "Processing size"
       ]
      },
      {
       "output_type": "stream",
       "stream": "stdout",
       "text": [
        " 8\n",
        "20000"
       ]
      },
      {
       "output_type": "stream",
       "stream": "stdout",
       "text": [
        "\n",
        "19999"
       ]
      },
      {
       "output_type": "stream",
       "stream": "stdout",
       "text": [
        "\n",
        "20000"
       ]
      },
      {
       "output_type": "stream",
       "stream": "stdout",
       "text": [
        "\n",
        "20000"
       ]
      },
      {
       "output_type": "stream",
       "stream": "stdout",
       "text": [
        "\n",
        "20000"
       ]
      },
      {
       "output_type": "stream",
       "stream": "stdout",
       "text": [
        "\n",
        "19999"
       ]
      },
      {
       "output_type": "stream",
       "stream": "stdout",
       "text": [
        "\n",
        "20000"
       ]
      },
      {
       "output_type": "stream",
       "stream": "stdout",
       "text": [
        "\n",
        "20000"
       ]
      },
      {
       "output_type": "stream",
       "stream": "stdout",
       "text": [
        "\n",
        "20000"
       ]
      },
      {
       "output_type": "stream",
       "stream": "stdout",
       "text": [
        "\n",
        "20000"
       ]
      },
      {
       "output_type": "stream",
       "stream": "stdout",
       "text": [
        "\n",
        "Processing size"
       ]
      },
      {
       "output_type": "stream",
       "stream": "stdout",
       "text": [
        " 9\n",
        "20000"
       ]
      },
      {
       "output_type": "stream",
       "stream": "stdout",
       "text": [
        "\n",
        "20000"
       ]
      },
      {
       "output_type": "stream",
       "stream": "stdout",
       "text": [
        "\n",
        "20000"
       ]
      },
      {
       "output_type": "stream",
       "stream": "stdout",
       "text": [
        "\n",
        "20000"
       ]
      },
      {
       "output_type": "stream",
       "stream": "stdout",
       "text": [
        "\n",
        "20000"
       ]
      },
      {
       "output_type": "stream",
       "stream": "stdout",
       "text": [
        "\n",
        "20000"
       ]
      },
      {
       "output_type": "stream",
       "stream": "stdout",
       "text": [
        "\n",
        "20000"
       ]
      },
      {
       "output_type": "stream",
       "stream": "stdout",
       "text": [
        "\n",
        "20000"
       ]
      },
      {
       "output_type": "stream",
       "stream": "stdout",
       "text": [
        "\n",
        "20000"
       ]
      },
      {
       "output_type": "stream",
       "stream": "stdout",
       "text": [
        "\n",
        "20000"
       ]
      },
      {
       "output_type": "stream",
       "stream": "stdout",
       "text": [
        "\n",
        "Processing size"
       ]
      },
      {
       "output_type": "stream",
       "stream": "stdout",
       "text": [
        " 10\n",
        "20000"
       ]
      },
      {
       "output_type": "stream",
       "stream": "stdout",
       "text": [
        "\n",
        "20000"
       ]
      },
      {
       "output_type": "stream",
       "stream": "stdout",
       "text": [
        "\n",
        "20000"
       ]
      },
      {
       "output_type": "stream",
       "stream": "stdout",
       "text": [
        "\n",
        "20000"
       ]
      },
      {
       "output_type": "stream",
       "stream": "stdout",
       "text": [
        "\n",
        "20000"
       ]
      },
      {
       "output_type": "stream",
       "stream": "stdout",
       "text": [
        "\n",
        "20000"
       ]
      },
      {
       "output_type": "stream",
       "stream": "stdout",
       "text": [
        "\n",
        "20000"
       ]
      },
      {
       "output_type": "stream",
       "stream": "stdout",
       "text": [
        "\n",
        "20000"
       ]
      },
      {
       "output_type": "stream",
       "stream": "stdout",
       "text": [
        "\n",
        "20000"
       ]
      },
      {
       "output_type": "stream",
       "stream": "stdout",
       "text": [
        "\n",
        "20000"
       ]
      },
      {
       "output_type": "stream",
       "stream": "stdout",
       "text": [
        "\n"
       ]
      }
     ],
     "prompt_number": 14
    },
    {
     "cell_type": "code",
     "collapsed": false,
     "input": [
      "print avg_sp_random_graphs"
     ],
     "language": "python",
     "metadata": {},
     "outputs": [
      {
       "output_type": "stream",
       "stream": "stdout",
       "text": [
        "{2: [8.3505430463854982, 8.2305004440265321, 8.2988667223730985, 8.3815793049385938, 8.2626484104949256, 8.3195845960915449, 8.2250530275325211, 8.2669587225382273, 8.2565268247406092, 8.2383738112578246], 3: [6.3944578510639047, 6.411027076085313, 6.4156770780856416, 6.4178454485920078, 6.3799097782258034, 6.4359982874987418, 6.3986652233019505, 6.3953927044025178, 6.4135450375522973, 6.4034524768425287], 4: [5.4879796766281244, 5.525019019019016, 5.5164477094582756, 5.5477848449942417, 5.4734054595542183, 5.4770237916353635, 5.541545390336621, 5.4942039364952162, 5.4787208894676205, 5.4665672090112647], 5: [4.9970801240372094, 4.9962180573363915, 4.9933734382791553, 4.9556752025607684, 4.992585421982092, 4.9530970402231782, 4.981115252943229, 4.9690820410205108, 4.9759479739869938, 5.0024368655298286], 6: [4.6298864943247171, 4.6277250000000016, 4.5936785517827659, 4.6152652897934674, 4.6303820382038197, 4.6264741808518988, 4.6364464729301247, 4.600545527276366, 4.6200980049002451, 4.6271010101010113], 7: [4.3731559999999989, 4.3596284999999995, 4.3730210000000023, 4.3814795000000011, 4.3775338383838394, 4.3941005000000022, 4.3736080000000008, 4.374525226261313, 4.3879275000000018, 4.3675639999999989], 8: [4.1690915000000022, 4.1652157607880405, 4.145411000000002, 4.1501897959183696, 4.1613484999999981, 4.152125606280312, 4.1523220000000016, 4.1599525252525247, 4.1587999999999994, 4.1590894999999977], 9: [3.9965764999999998, 3.964526767676769, 3.9988594999999973, 3.9975294999999993, 3.9923334999999995, 3.9639259999999994, 3.9786654999999986, 4.002740000000002, 3.9834084999999964, 3.9884354999999996], 10: [3.8524710000000018, 3.8478499999999993, 3.862269, 3.8508240000000002, 3.8397955000000006, 3.8274024999999994, 3.8382805000000015, 3.8511409090909083, 3.8672029999999995, 3.8512742424242434]}\n"
       ]
      }
     ],
     "prompt_number": 15
    },
    {
     "cell_type": "code",
     "collapsed": false,
     "input": [
      "mean_sp_random_graphs = {}\n",
      "for k in avg_sp_random_graphs.keys():\n",
      "    mean_sp_random_graphs[k] = numpy.mean(avg_sp_random_graphs[k])"
     ],
     "language": "python",
     "metadata": {},
     "outputs": [],
     "prompt_number": 17
    },
    {
     "cell_type": "code",
     "collapsed": false,
     "input": [
      "print mean_sp_random_graphs"
     ],
     "language": "python",
     "metadata": {},
     "outputs": [
      {
       "output_type": "stream",
       "stream": "stdout",
       "text": [
        "{2: 8.2830634910379377, 3: 6.4065970961650702, 4: 5.500869792659997, 5: 4.9816611417899352, 6: 4.6207602570164408, 7: 4.3762544064645166, 8: 4.1573546188239252, 9: 3.9867001267676772, 10: 3.8488510651515151}\n"
       ]
      }
     ],
     "prompt_number": 18
    },
    {
     "cell_type": "code",
     "collapsed": false,
     "input": [
      "plot(mean_shortest_map.keys(), mean_shortest_map.values(), 'bo', label='polyglot')\n",
      "plot(mean_sp_random_graphs.keys(), mean_sp_random_graphs.values(), 'ro', label='random')\n",
      "legend()\n",
      "xlabel('NN')\n",
      "ylabel('Average Shortest Path length')\n",
      "title('Plot of Average shortest path length versus NN')"
     ],
     "language": "python",
     "metadata": {},
     "outputs": [
      {
       "metadata": {},
       "output_type": "pyout",
       "prompt_number": 43,
       "text": [
        "<matplotlib.text.Text at 0xe6de710>"
       ]
      },
      {
       "metadata": {},
       "output_type": "display_data",
       "png": "[encoded data removed]",
       "text": [
        "<matplotlib.figure.Figure at 0xe6e2210>"
       ]
      }
     ],
     "prompt_number": 43
    },
    {
     "cell_type": "code",
     "collapsed": false,
     "input": [
      "# Calculate the average Clustering coefficient of each poyglot graph\n",
      "avg_ccf_map = {}\n",
      "for size, graph in UGraph_Sizes.items():\n",
      "    print size\n",
      "    avg_ccf_map[size] = nx.average_clustering(graph)"
     ],
     "language": "python",
     "metadata": {},
     "outputs": [
      {
       "output_type": "stream",
       "stream": "stdout",
       "text": [
        "2\n",
        "3"
       ]
      },
      {
       "output_type": "stream",
       "stream": "stdout",
       "text": [
        "\n",
        "4"
       ]
      },
      {
       "output_type": "stream",
       "stream": "stdout",
       "text": [
        "\n",
        "5"
       ]
      },
      {
       "output_type": "stream",
       "stream": "stdout",
       "text": [
        "\n",
        "6"
       ]
      },
      {
       "output_type": "stream",
       "stream": "stdout",
       "text": [
        "\n",
        "7"
       ]
      },
      {
       "output_type": "stream",
       "stream": "stdout",
       "text": [
        "\n",
        "8"
       ]
      },
      {
       "output_type": "stream",
       "stream": "stdout",
       "text": [
        "\n",
        "9"
       ]
      },
      {
       "output_type": "stream",
       "stream": "stdout",
       "text": [
        "\n",
        "10"
       ]
      },
      {
       "output_type": "stream",
       "stream": "stdout",
       "text": [
        "\n"
       ]
      }
     ],
     "prompt_number": 23
    },
    {
     "cell_type": "code",
     "collapsed": false,
     "input": [
      "print avg_ccf_map"
     ],
     "language": "python",
     "metadata": {},
     "outputs": [
      {
       "output_type": "stream",
       "stream": "stdout",
       "text": [
        "{2: 0.18421808485078184, 3: 0.21031865582653678, 4: 0.22389699230264845, 5: 0.234394000420974, 6: 0.24096862272357653, 7: 0.2459816508442398, 8: 0.25001465804171064, 9: 0.25399383243239526, 10: 0.25746255120025996}\n"
       ]
      }
     ],
     "prompt_number": 24
    },
    {
     "cell_type": "code",
     "collapsed": false,
     "input": [
      "#Get CCF of the random graphs\n",
      "avg_ccf_random_graphs = {}\n",
      "for size, list_graphs in random_graphs_map.items():\n",
      "    print \"Processing size\", size\n",
      "    output_list = []\n",
      "    #Process each graph and obtain its average CCF\n",
      "    for graph in list_graphs:\n",
      "            output_list.append(nx.average_clustering(graph))\n",
      "    #Store output for the size and proceed to next size\n",
      "    avg_ccf_random_graphs[size] = output_list"
     ],
     "language": "python",
     "metadata": {},
     "outputs": [
      {
       "output_type": "stream",
       "stream": "stdout",
       "text": [
        "Processing size 2\n",
        "Processing size"
       ]
      },
      {
       "output_type": "stream",
       "stream": "stdout",
       "text": [
        " 3\n",
        "Processing size"
       ]
      },
      {
       "output_type": "stream",
       "stream": "stdout",
       "text": [
        " 4\n",
        "Processing size"
       ]
      },
      {
       "output_type": "stream",
       "stream": "stdout",
       "text": [
        " 5\n",
        "Processing size"
       ]
      },
      {
       "output_type": "stream",
       "stream": "stdout",
       "text": [
        " 6\n",
        "Processing size"
       ]
      },
      {
       "output_type": "stream",
       "stream": "stdout",
       "text": [
        " 7\n",
        "Processing size"
       ]
      },
      {
       "output_type": "stream",
       "stream": "stdout",
       "text": [
        " 8\n",
        "Processing size"
       ]
      },
      {
       "output_type": "stream",
       "stream": "stdout",
       "text": [
        " 9\n",
        "Processing size"
       ]
      },
      {
       "output_type": "stream",
       "stream": "stdout",
       "text": [
        " 10\n"
       ]
      }
     ],
     "prompt_number": 25
    },
    {
     "cell_type": "code",
     "collapsed": false,
     "input": [
      "mean_ccf_random_graphs = {}\n",
      "for k in avg_ccf_random_graphs.keys():\n",
      "    mean_ccf_random_graphs[k] = numpy.mean(avg_ccf_random_graphs[k])"
     ],
     "language": "python",
     "metadata": {},
     "outputs": [],
     "prompt_number": 27
    },
    {
     "cell_type": "code",
     "collapsed": false,
     "input": [
      "print mean_ccf_random_graphs"
     ],
     "language": "python",
     "metadata": {},
     "outputs": [
      {
       "output_type": "stream",
       "stream": "stdout",
       "text": [
        "{2: 9.6226190476190481e-05, 3: 0.0002547927072927072, 4: 0.00033624757595345802, 5: 0.00040586745487055081, 6: 0.00046992616066424185, 7: 0.00057027864053880452, 8: 0.00064284842065958953, 9: 0.0006950120243323165, 10: 0.00080014145586083767}\n"
       ]
      }
     ],
     "prompt_number": 28
    },
    {
     "cell_type": "code",
     "collapsed": false,
     "input": [
      "plot(avg_ccf_map.keys(), avg_ccf_map.values(), 'bo', label='polyglot')\n",
      "plot(mean_ccf_random_graphs.keys(), mean_ccf_random_graphs.values(), 'ro', label='random')\n",
      "legend()\n",
      "yscale('log')\n",
      "xlabel('NN')\n",
      "ylabel('Average CCF')\n",
      "title('Plot of Average CCF versus NN')"
     ],
     "language": "python",
     "metadata": {},
     "outputs": [
      {
       "metadata": {},
       "output_type": "pyout",
       "prompt_number": 42,
       "text": [
        "<matplotlib.text.Text at 0xe6f7410>"
       ]
      },
      {
       "metadata": {},
       "output_type": "display_data",
       "png": "[encoded data removed]",
       "text": [
        "<matplotlib.figure.Figure at 0x1a39c82d0>"
       ]
      }
     ],
     "prompt_number": 42
    },
    {
     "cell_type": "code",
     "collapsed": false,
     "input": [
      "# Calculate small world index defined as (C/Crandom)/(P/Prandom)\n",
      "small_word_index = {}\n",
      "for size in UGraph_Sizes.keys():\n",
      "    ccf_ratio = avg_ccf_map[size]/mean_ccf_random_graphs[size]\n",
      "    sp_ratio = mean_shortest_map[size]/mean_sp_random_graphs[size]\n",
      "    small_word_index[size] = ccf_ratio/sp_ratio\n",
      "    "
     ],
     "language": "python",
     "metadata": {},
     "outputs": [],
     "prompt_number": 34
    },
    {
     "cell_type": "code",
     "collapsed": false,
     "input": [
      "print small_word_index\n"
     ],
     "language": "python",
     "metadata": {},
     "outputs": [
      {
       "output_type": "stream",
       "stream": "stdout",
       "text": [
        "{2: 1175.6847869521864, 3: 541.03865963633905, 4: 452.36771477982762, 5: 390.3478049102448, 6: 354.68700208513388, 7: 298.29589798602836, 8: 274.17415970257667, 9: 252.497682004333, 10: 225.91277854506524}\n"
       ]
      }
     ],
     "prompt_number": 35
    },
    {
     "cell_type": "code",
     "collapsed": false,
     "input": [
      "# Plot the small world index\n",
      "plot(small_word_index.keys(), small_word_index.values(),'ro')\n",
      "title('Small world index versus NN')\n",
      "xlabel('NN')\n",
      "ylabel('Small world index')"
     ],
     "language": "python",
     "metadata": {},
     "outputs": [
      {
       "metadata": {},
       "output_type": "pyout",
       "prompt_number": 41,
       "text": [
        "<matplotlib.text.Text at 0x1a39d56d0>"
       ]
      },
      {
       "metadata": {},
       "output_type": "display_data",
       "png": "[encoded data removed]",
       "text": [
        "<matplotlib.figure.Figure at 0x240c390>"
       ]
      }
     ],
     "prompt_number": 41
    },
    {
     "cell_type": "code",
     "collapsed": false,
     "input": [],
     "language": "python",
     "metadata": {},
     "outputs": []
    }
   ],
   "metadata": {}
  }
 ]
}