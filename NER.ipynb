{
 "metadata": {
  "name": ""
 },
 "nbformat": 3,
 "nbformat_minor": 0,
 "worksheets": [
  {
   "cells": [
    {
     "cell_type": "code",
     "collapsed": false,
     "input": [
      "from tag_text import tag_text"
     ],
     "language": "python",
     "metadata": {},
     "outputs": [],
     "prompt_number": 51
    },
    {
     "cell_type": "markdown",
     "metadata": {},
     "source": [
      "Entities are marked 'NE'. Non entities are marked 'O\""
     ]
    },
    {
     "cell_type": "code",
     "collapsed": false,
     "input": [
      "print tag_text(\"Bill Clinton is the president of the United States. Look into my eyes you see. Paris Hilton is a singer.\")"
     ],
     "language": "python",
     "metadata": {},
     "outputs": [
      {
       "output_type": "stream",
       "stream": "stdout",
       "text": [
        "[('Bill Clinton', 'NE'), ('is', 'O'), ('the', 'O'), ('president', 'O'), ('of', 'O'), ('the', 'O'), ('United States', 'NE'), ('.', 'O'), ('Look', 'NE'), ('into', 'O'), ('my', 'O'), ('eyes', 'O'), ('you', 'O'), ('see', 'O'), ('.', 'O'), ('Paris Hilton', 'NE'), ('is', 'O'), ('a', 'O'), ('singer', 'O'), ('.', 'O')]\n"
       ]
      }
     ],
     "prompt_number": 53
    },
    {
     "cell_type": "code",
     "collapsed": false,
     "input": [],
     "language": "python",
     "metadata": {},
     "outputs": [],
     "prompt_number": 36
    },
    {
     "cell_type": "code",
     "collapsed": false,
     "input": [],
     "language": "python",
     "metadata": {},
     "outputs": []
    }
   ],
   "metadata": {}
  }
 ]
}