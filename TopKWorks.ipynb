{
 "metadata": {
  "name": ""
 },
 "nbformat": 3,
 "nbformat_minor": 0,
 "worksheets": [
  {
   "cells": [
    {
     "cell_type": "code",
     "collapsed": false,
     "input": [
      "import ranking"
     ],
     "language": "python",
     "metadata": {},
     "outputs": [],
     "prompt_number": 106
    },
    {
     "cell_type": "code",
     "collapsed": false,
     "input": [
      "def Case1(i ,j, L1_ranks_dict, L2_ranks_dict):\n",
      "    c1 = (i in L1_ranks_dict) + (j in L1_ranks_dict)\n",
      "    c2 = (i in L2_ranks_dict) + (j in L2_ranks_dict)\n",
      "    return (c1 + c2) == 4\n",
      "\n",
      "\n",
      "def Case2(i, j, L1_ranks_dict, L2_ranks_dict):\n",
      "    c1 = (i in L1_ranks_dict) + (j in L1_ranks_dict)\n",
      "    c2 = (i in L2_ranks_dict) + (j in L2_ranks_dict)\n",
      "    if (c1 + c2) == 3:\n",
      "        if (i in L1_ranks_dict) and (i in L2_ranks_dict):\n",
      "            if j in L1_ranks_dict:\n",
      "                return True, (i, j), L1_ranks_dict\n",
      "            else:\n",
      "                return True, (i, j), L2_ranks_dict\n",
      "        elif (j in L1_ranks_dict) and (j in L2_ranks_dict):\n",
      "            if i in L1_ranks_dict:\n",
      "                return True, (j, i), L1_ranks_dict\n",
      "            else:\n",
      "                return True, (j, i), L2_ranks_dict\n",
      "            \n",
      "    return False, -1, None\n",
      "\n",
      "def Case3(i, j, L1_ranks_dict, L2_ranks_dict):\n",
      "    c1 = (i in L1_ranks_dict) + (j in L1_ranks_dict)\n",
      "    c2 = (i in L2_ranks_dict) + (j in L2_ranks_dict)\n",
      "    return (c1 == 1) and (c2 == 1)\n",
      "\n",
      "\n",
      "def Case4(i, j, L1_ranks_dict, L2_ranks_dict):\n",
      "    c1 = (i in L1_ranks_dict) + (j in L1_ranks_dict)\n",
      "    c2 = (i in L2_ranks_dict) + (j in L2_ranks_dict)\n",
      "    return ((c1 == 2) and (c2 == 0) or (c2 == 2 and c1 == 0))\n",
      "\n",
      "def Kp(pair, L1_ranks_dict, L2_ranks_dict, p = 0):\n",
      "    i,j = pair\n",
      "    if Case1(i, j, L1_ranks_dict, L2_ranks_dict):\n",
      "        #print \"Case 1\", pair\n",
      "        return int((L1_ranks_dict[i] < L1_ranks_dict[j]) != (L2_ranks_dict[i] < L2_ranks_dict[j]))\n",
      "    status2, tup, d = Case2(i, j, L1_ranks_dict, L2_ranks_dict)\n",
      "    if status2:\n",
      "        #print \"Case 2\", pair, tup, d\n",
      "        return int(d[tup[0]] > d[tup[1]])\n",
      "    if Case3(i, j, L1_ranks_dict, L2_ranks_dict):\n",
      "        #print \"Case 3\", pair\n",
      "        return 1\n",
      "    else: # Case 4\n",
      "        #print \"Case 4\", pair\n",
      "        return p "
     ],
     "language": "python",
     "metadata": {},
     "outputs": [],
     "prompt_number": 107
    },
    {
     "cell_type": "code",
     "collapsed": false,
     "input": [
      "L1 = [1,2,3,4]\n",
      "L2= [5,4,2,6]"
     ],
     "language": "python",
     "metadata": {},
     "outputs": [],
     "prompt_number": 108
    },
    {
     "cell_type": "code",
     "collapsed": false,
     "input": [
      "L1_ranks = list(ranking.Ranking(L1, key=L1.index, reverse = True))\n",
      "L2_ranks = list(ranking.Ranking(L2, key=L2.index, reverse = True))"
     ],
     "language": "python",
     "metadata": {},
     "outputs": [],
     "prompt_number": 109
    },
    {
     "cell_type": "code",
     "collapsed": false,
     "input": [
      "L1_ranks_dict = dict([(item , rank) for rank, item in L1_ranks])\n",
      "L2_ranks_dict = dict([(item , rank) for rank, item in L2_ranks])"
     ],
     "language": "python",
     "metadata": {},
     "outputs": [],
     "prompt_number": 110
    },
    {
     "cell_type": "code",
     "collapsed": false,
     "input": [
      "import itertools"
     ],
     "language": "python",
     "metadata": {},
     "outputs": [],
     "prompt_number": 111
    },
    {
     "cell_type": "code",
     "collapsed": false,
     "input": [
      "pairs = itertools.combinations(set(L1 + L2), 2)"
     ],
     "language": "python",
     "metadata": {},
     "outputs": [],
     "prompt_number": 112
    },
    {
     "cell_type": "code",
     "collapsed": false,
     "input": [
      "for pair in pairs:\n",
      "    i, j = pair\n",
      "    print pair, Kp(pair, L1_ranks_dict, L2_ranks_dict)"
     ],
     "language": "python",
     "metadata": {},
     "outputs": [
      {
       "output_type": "stream",
       "stream": "stdout",
       "text": [
        "(1, 2) 1\n",
        "(1, 3) 0\n",
        "(1, 4) 1\n",
        "(1, 5) 1\n",
        "(1, 6) 1\n",
        "(2, 3) 0\n",
        "(2, 4) 1\n",
        "(2, 5) 1\n",
        "(2, 6) 0\n",
        "(3, 4) 1\n",
        "(3, 5) 1\n",
        "(3, 6) 1\n",
        "(4, 5) 1\n",
        "(4, 6) 0\n",
        "(5, 6) 0\n"
       ]
      }
     ],
     "prompt_number": 113
    },
    {
     "cell_type": "code",
     "collapsed": false,
     "input": [
      "Case2(1,3,L1_ranks_dict, L2_ranks_dict)"
     ],
     "language": "python",
     "metadata": {},
     "outputs": [
      {
       "metadata": {},
       "output_type": "pyout",
       "prompt_number": 81,
       "text": [
        "(False, -1, None)"
       ]
      }
     ],
     "prompt_number": 81
    },
    {
     "cell_type": "code",
     "collapsed": false,
     "input": [],
     "language": "python",
     "metadata": {},
     "outputs": [],
     "prompt_number": 13
    },
    {
     "cell_type": "code",
     "collapsed": false,
     "input": [],
     "language": "python",
     "metadata": {},
     "outputs": [],
     "prompt_number": 13
    },
    {
     "cell_type": "code",
     "collapsed": false,
     "input": [
      "print \"h\""
     ],
     "language": "python",
     "metadata": {},
     "outputs": [
      {
       "output_type": "stream",
       "stream": "stdout",
       "text": [
        "h\n"
       ]
      }
     ],
     "prompt_number": 15
    },
    {
     "cell_type": "code",
     "collapsed": false,
     "input": [],
     "language": "python",
     "metadata": {},
     "outputs": []
    }
   ],
   "metadata": {}
  }
 ]
}