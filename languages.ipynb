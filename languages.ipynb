{
 "metadata": {
  "name": ""
 },
 "nbformat": 3,
 "nbformat_minor": 0,
 "worksheets": [
  {
   "cells": [
    {
     "cell_type": "code",
     "collapsed": false,
     "input": [
      "import numpy as np\n",
      "import pylab as pl\n",
      "from scipy.stats import *\n"
     ],
     "language": "python",
     "metadata": {},
     "outputs": [],
     "prompt_number": 1
    },
    {
     "cell_type": "heading",
     "level": 2,
     "metadata": {},
     "source": [
      "Distributions of the label classes on the Raw Data for EN, ES, NL"
     ]
    },
    {
     "cell_type": "code",
     "collapsed": false,
     "input": [
      "def PrintLabelDist(dist_labels):\n",
      "    label_dict = {1:'O', 2:'LOC', 3:'ORG', 4:'PER'}\n",
      "    label_list = ['O', 'LOC', 'ORG', 'PER']\n",
      "    probs = dist_labels[:,0]/float(np.sum(dist_labels[:,0]))\n",
      "    L = zip(label_list, probs)\n",
      "    for l in L:\n",
      "        print l\n",
      "\n"
     ],
     "language": "python",
     "metadata": {},
     "outputs": [],
     "prompt_number": 13
    },
    {
     "cell_type": "code",
     "collapsed": false,
     "input": [
      "en_dist_labels = np.loadtxt('./dist_labels_en.txt')\n",
      "print \"ENGLISH:\"\n",
      "PrintLabelDist(en_dist_labels)\n",
      "print \"---------------------------------------\"\n",
      "es_dist_labels = np.loadtxt('./dist_labels_es.txt')\n",
      "print \"SPANISH\"\n",
      "PrintLabelDist(es_dist_labels)\n",
      "print \"---------------------------------------\"\n",
      "nl_dist_labels = np.loadtxt('./dist_labels_nl.txt')\n",
      "print \"DUTCH\"\n",
      "PrintLabelDist(nl_dist_labels)\n",
      "print \"---------------------------------------\""
     ],
     "language": "python",
     "metadata": {},
     "outputs": [
      {
       "output_type": "stream",
       "stream": "stdout",
       "text": [
        "ENGLISH:\n",
        "('O', 0.97738568036052098)\n",
        "('LOC', 0.0048623688332160957)\n",
        "('ORG', 0.0066689674582419518)\n",
        "('PER', 0.011082983348020974)\n",
        "---------------------------------------\n",
        "SPANISH\n",
        "('O', 0.97984149384546937)\n",
        "('LOC', 0.0072230527260497513)\n",
        "('ORG', 0.0036513296215189076)\n",
        "('PER', 0.0092841238069620146)\n",
        "---------------------------------------\n",
        "DUTCH\n",
        "('O', 0.97959115484613912)\n",
        "('LOC', 0.0080286668485670468)\n",
        "('ORG', 0.0030499765002174588)\n",
        "('PER', 0.0093302018050763526)\n",
        "---------------------------------------\n"
       ]
      }
     ],
     "prompt_number": 20
    },
    {
     "cell_type": "markdown",
     "metadata": {},
     "source": [
      "We note that the class labeled \"Non entity\" (O) dominates the distribution.  In the next experiment, we undersample from this class and look at how it affects performance on NER Task"
     ]
    },
    {
     "cell_type": "heading",
     "level": 2,
     "metadata": {},
     "source": [
      "Results of undersampling from Non Entity Class on NER Task"
     ]
    },
    {
     "cell_type": "code",
     "collapsed": false,
     "input": [
      "def GetScores(data):\n",
      "    x = data[:,0]\n",
      "    fscore = data[:,1:4]\n",
      "    fscore_oov = data[:,4:7]\n",
      "    mean_fscore = np.mean(fscore, axis=1)\n",
      "    mean_fscore_oov = np.mean(fscore_oov, axis=1)\n",
      "    sem_fscore = sem(fscore, axis=1)\n",
      "    sem_fscore_oov = sem(fscore_oov, axis=1)\n",
      "    return x, mean_fscore, sem_fscore, mean_fscore_oov, sem_fscore_oov\n",
      "    \n",
      "def Plot(x, mean, err, label_str, fmtstr='-o'):\n",
      "    pl.errorbar(x, mean, err, label=label_str, fmt=fmtstr)\n",
      "    \n",
      "pl.xlabel('Proportion of non entity examples')\n",
      "pl.ylabel('Mean F-score')\n",
      "en_data = np.loadtxt('./results_en.txt')\n",
      "x, en_mean_fscore, en_sem_fscore,en_mean_fscore_oov, en_sem_fscore_oov = GetScores(en_data)\n",
      "Plot(x, en_mean_fscore, en_sem_fscore, 'en-no-oov')\n",
      "Plot(x, en_mean_fscore_oov, en_sem_fscore_oov, 'en-oov', fmtstr='-^')\n",
      "\n",
      "es_data = np.loadtxt('./results_es.txt')\n",
      "x, es_mean_fscore, es_sem_fscore,es_mean_fscore_oov, es_sem_fscore_oov = GetScores(es_data)\n",
      "Plot(x, es_mean_fscore, es_sem_fscore, 'es-no-oov')\n",
      "Plot(x, es_mean_fscore_oov, es_sem_fscore_oov, 'es-oov', fmtstr='-^')\n",
      "\n",
      "nl_data = np.loadtxt('./results_nl.txt')\n",
      "x, nl_mean_fscore, nl_sem_fscore, nl_mean_fscore_oov, nl_sem_fscore_oov = GetScores(nl_data)\n",
      "Plot(x, nl_mean_fscore, nl_sem_fscore, 'nl-no-oov')\n",
      "Plot(x, nl_mean_fscore_oov, nl_sem_fscore_oov, 'nl-oov', fmtstr='-^')\n",
      "\n",
      "legend=pl.legend(loc='best')"
     ],
     "language": "python",
     "metadata": {},
     "outputs": [
      {
       "metadata": {},
       "output_type": "display_data",
       "png": "[encoded data removed]",
       "text": [
        "<matplotlib.figure.Figure at 0xa76f2cc>"
       ]
      }
     ],
     "prompt_number": 6
    },
    {
     "cell_type": "markdown",
     "metadata": {},
     "source": [
      "We thus note that even slight undersampling of the non-entity class helps boost the performance to a fair degree. \n",
      "We also note that this is obtained without using any heuristics at all."
     ]
    },
    {
     "cell_type": "code",
     "collapsed": false,
     "input": [
      "def GetConfusionMatrix(filename):\n",
      "    from io import open\n",
      "    fh = open(filename)\n",
      "    text = fh.read()\n",
      "    lines = [l.strip().split() for l in text.splitlines() if l.strip()]\n",
      "    from nltk.metrics import ConfusionMatrix\n",
      "    reference, predictions = zip(*[(y,z) for (x,y,z) in lines])\n",
      "    map_ = {'LOC': 'pos', 'ORG': 'pos', 'PER': 'pos', 'O':'neg'}\n",
      "    ref2 = [map_[x] for x in reference]\n",
      "    pred2 = [map_[x] for x in predictions]\n",
      "    return ConfusionMatrix(reference, predictions), ConfusionMatrix(ref2, pred2)"
     ],
     "language": "python",
     "metadata": {},
     "outputs": [],
     "prompt_number": 8
    },
    {
     "cell_type": "heading",
     "level": 2,
     "metadata": {},
     "source": [
      "Sample Confusion Matrices for the NER Tasks above"
     ]
    },
    {
     "cell_type": "markdown",
     "metadata": {},
     "source": [
      "In this section I show the confusion matrices for NER Tasks on En, Es and Nl. I also show the confusion matrix for entities(pos) versus non-entities(neg)."
     ]
    },
    {
     "cell_type": "code",
     "collapsed": false,
     "input": [
      "Confusion1, Confusion2 = GetConfusionMatrix('./en.output')\n",
      "print \"Confusion matrices for EN\"\n",
      "print \"***************************\"\n",
      "print Confusion1\n",
      "print Confusion2"
     ],
     "language": "python",
     "metadata": {},
     "outputs": [
      {
       "output_type": "stream",
       "stream": "stdout",
       "text": [
        "Confusion matrices for EN\n",
        "***************************\n",
        "    |     L           O     P |\n",
        "    |     O           R     E |\n",
        "    |     C     O     G     R |\n",
        "----+-------------------------+\n",
        "LOC | <1350>  573   153    18 |\n",
        "  O |    88<43329>  438   172 |\n",
        "ORG |   355   808  <853>   76 |\n",
        "PER |    16   514    17 <2602>|\n",
        "----+-------------------------+\n",
        "(row = reference; col = test)\n",
        "\n",
        "    |     n     p |\n",
        "    |     e     o |\n",
        "    |     g     s |\n",
        "----+-------------+\n",
        "neg |<43329>  698 |\n",
        "pos |  1895 <5440>|\n",
        "----+-------------+\n",
        "(row = reference; col = test)\n",
        "\n"
       ]
      }
     ],
     "prompt_number": 22
    },
    {
     "cell_type": "code",
     "collapsed": false,
     "input": [
      "Confusion1, Confusion2 = GetConfusionMatrix('./es.output')\n",
      "print \"Confusion matrices for ES\"\n",
      "print \"***************************\"\n",
      "print Confusion1\n",
      "print Confusion2"
     ],
     "language": "python",
     "metadata": {},
     "outputs": [
      {
       "output_type": "stream",
       "stream": "stdout",
       "text": [
        "Confusion matrices for ES\n",
        "***************************\n",
        "    |     L           O     P |\n",
        "    |     O           R     E |\n",
        "    |     C     O     G     R |\n",
        "----+-------------------------+\n",
        "LOC | <1028>  157    78    58 |\n",
        "  O |   240<45580>  500   135 |\n",
        "ORG |   430   758 <1753>  125 |\n",
        "PER |   118   257     9 <1697>|\n",
        "----+-------------------------+\n",
        "(row = reference; col = test)\n",
        "\n",
        "    |     n     p |\n",
        "    |     e     o |\n",
        "    |     g     s |\n",
        "----+-------------+\n",
        "neg |<45580>  875 |\n",
        "pos |  1172 <5296>|\n",
        "----+-------------+\n",
        "(row = reference; col = test)\n",
        "\n"
       ]
      }
     ],
     "prompt_number": 23
    },
    {
     "cell_type": "code",
     "collapsed": false,
     "input": [
      "Confusion1, Confusion2 = GetConfusionMatrix('./nl.output')\n",
      "print \"Confusion matrices for NL\"\n",
      "print \"***************************\"\n",
      "print Confusion1\n",
      "print Confusion2"
     ],
     "language": "python",
     "metadata": {},
     "outputs": [
      {
       "output_type": "stream",
       "stream": "stdout",
       "text": [
        "Confusion matrices for NL\n",
        "***************************\n",
        "    |     L           O     P |\n",
        "    |     O           R     E |\n",
        "    |     C     O     G     R |\n",
        "----+-------------------------+\n",
        "LOC |  <392>  114    12    25 |\n",
        "  O |   113<34615>   88   120 |\n",
        "ORG |    41   622  <358>   61 |\n",
        "PER |    17   313     2  <794>|\n",
        "----+-------------------------+\n",
        "(row = reference; col = test)\n",
        "\n",
        "    |     n     p |\n",
        "    |     e     o |\n",
        "    |     g     s |\n",
        "----+-------------+\n",
        "neg |<34615>  321 |\n",
        "pos |  1049 <1702>|\n",
        "----+-------------+\n",
        "(row = reference; col = test)\n",
        "\n"
       ]
      }
     ],
     "prompt_number": 24
    },
    {
     "cell_type": "markdown",
     "metadata": {},
     "source": [
      "We note that we are most confused in identifying ORGANIZATIONS relative to other classes."
     ]
    },
    {
     "cell_type": "code",
     "collapsed": false,
     "input": [],
     "language": "python",
     "metadata": {},
     "outputs": []
    }
   ],
   "metadata": {}
  }
 ]
}