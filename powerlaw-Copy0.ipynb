{
 "metadata": {
  "name": ""
 },
 "nbformat": 3,
 "nbformat_minor": 0,
 "worksheets": [
  {
   "cells": [
    {
     "cell_type": "code",
     "collapsed": false,
     "input": [
      "%load_ext autoreload\n",
      "%autoreload 2"
     ],
     "language": "python",
     "metadata": {},
     "outputs": [],
     "prompt_number": 4
    },
    {
     "cell_type": "code",
     "collapsed": false,
     "input": [
      "import pylab\n",
      "from pylab import *\n",
      "pylab.rcParams['xtick.major.pad']='8'\n",
      "pylab.rcParams['ytick.major.pad']='8'\n",
      "#import matplotlib.gridspec as gridspec\n",
      "from matplotlib import rc\n",
      "rc('text', usetex=False)\n",
      "rc('font', family='serif')"
     ],
     "language": "python",
     "metadata": {},
     "outputs": [],
     "prompt_number": 5
    },
    {
     "cell_type": "code",
     "collapsed": false,
     "input": [
      "from os import listdir\n",
      "files = listdir('.')\n",
      "if 'words.txt' not in files:\n",
      "    import urllib\n",
      "    urllib.urlretrieve('https://raw.github.com/jeffalstott/powerlaw/master/manuscript/words.txt', 'words.txt')"
     ],
     "language": "python",
     "metadata": {},
     "outputs": [],
     "prompt_number": 6
    },
    {
     "cell_type": "code",
     "collapsed": false,
     "input": [
      "from numpy import genfromtxt\n",
      "words = genfromtxt('words.txt')"
     ],
     "language": "python",
     "metadata": {},
     "outputs": [],
     "prompt_number": 7
    },
    {
     "cell_type": "code",
     "collapsed": false,
     "input": [
      "def plot_basics(data, data_inst, fig, units):\n",
      "    from powerlaw import plot_pdf, Fit, pdf\n",
      "    annotate_coord = (-.4, .95)\n",
      "    ax1 = fig.add_subplot(n_graphs,n_data,data_inst)\n",
      "    plot_pdf(data[data>0], ax=ax1, linear_bins=True, color='r', linewidth=.5)\n",
      "    x, y = pdf(data, linear_bins=True)\n",
      "    ind = y>0\n",
      "    y = y[ind]\n",
      "    x = x[:-1]\n",
      "    x = x[ind]\n",
      "    ax1.scatter(x, y, color='r', s=.5)\n",
      "    plot_pdf(data[data>0], ax=ax1, color='b', linewidth=2)\n",
      "    from pylab import setp\n",
      "    setp( ax1.get_xticklabels(), visible=False)\n",
      "    #ax1.set_xticks(ax1.get_xticks()[::2])\n",
      "    ax1.set_yticks(ax1.get_yticks()[::2])\n",
      "    locs,labels = yticks()\n",
      "    #yticks(locs, map(lambda x: \"%.0f\" % x, log10(locs)))\n",
      "    if data_inst==1:\n",
      "        ax1.annotate(\"A\", annotate_coord, xycoords=\"axes fraction\", fontsize=14)\n",
      "\n",
      "    \n",
      "    from mpl_toolkits.axes_grid.inset_locator import inset_axes\n",
      "    ax1in = inset_axes(ax1, width = \"30%\", height = \"30%\", loc=3)\n",
      "    ax1in.hist(data, normed=True, color='b')\n",
      "    ax1in.set_xticks([])\n",
      "    ax1in.set_yticks([])\n",
      "    ax3 = fig.add_subplot(n_graphs,n_data,n_data*1+data_inst)#, sharex=ax1)#, sharey=ax2)\n",
      "    fit = Fit(data, discrete=True)\n",
      "    fit.power_law.plot_pdf(ax=ax3, linestyle='--', color='g', label='Power Law', linewidth = 1)\n",
      "    fit.exponential.plot_pdf(ax=ax3, linestyle='--', color='r', label='Exponential', linewidth = 1)\n",
      "    fit.lognormal.plot_pdf(ax=ax3, linestyle='--', color='m', label='Log Normal', linewidth = 1)\n",
      "    fit.plot_pdf(ax=ax3, color='b', linewidth=2, label='PDF')\n",
      "    \n",
      "    ax3.set_ylim(ax1.get_ylim())\n",
      "    ax3.set_yticks(ax3.get_yticks()[::2])\n",
      "    ax3.set_xlim(ax1.get_xlim())\n",
      "    \n",
      "    legend()\n",
      "    \n",
      "    #locs,labels = yticks()\n",
      "    #yticks(locs, map(lambda x: \"%.0f\" % x, log10(locs)))\n",
      "    if data_inst==1:\n",
      "        ax3.annotate(\"B\", annotate_coord, xycoords=\"axes fraction\", fontsize=14)\n",
      "\n",
      "    #if ax2.get_xlim()!=ax3.get_xlim():\n",
      "    #    zoom_effect01(ax2, ax3, ax3.get_xlim()[0], ax3.get_xlim()[1])\n",
      "    ax3.set_xlabel(units)"
     ],
     "language": "python",
     "metadata": {},
     "outputs": [],
     "prompt_number": 22
    },
    {
     "cell_type": "code",
     "collapsed": false,
     "input": [
      "n_data = 1\n",
      "n_graphs = 3\n",
      "f = pylab.figure(figsize=(8,11))\n",
      "\n",
      "data = words\n",
      "data_inst = 1\n",
      "units = 'Word Frequency'\n",
      "plot_basics(data, data_inst, f, units)"
     ],
     "language": "python",
     "metadata": {},
     "outputs": [
      {
       "output_type": "stream",
       "stream": "stdout",
       "text": [
        "Calculating best minimal value for power law fit\n"
       ]
      },
      {
       "metadata": {},
       "output_type": "display_data",
       "png": "[encoded data removed]",
       "text": [
        "<matplotlib.figure.Figure at 0xa404e0c>"
       ]
      }
     ],
     "prompt_number": 23
    },
    {
     "cell_type": "code",
     "collapsed": false,
     "input": [
      "import powerlaw\n",
      "fit = powerlaw.Fit(data, discrete=True)"
     ],
     "language": "python",
     "metadata": {},
     "outputs": [
      {
       "output_type": "stream",
       "stream": "stdout",
       "text": [
        "Calculating best minimal value for power law fit\n"
       ]
      }
     ],
     "prompt_number": 24
    },
    {
     "cell_type": "code",
     "collapsed": false,
     "input": [
      "fit.distribution_compare('power_law', 'exponential')"
     ],
     "language": "python",
     "metadata": {},
     "outputs": [
      {
       "metadata": {},
       "output_type": "pyout",
       "prompt_number": 25,
       "text": [
        "(3025.0229258679205, 6.4856142413795834e-20)"
       ]
      }
     ],
     "prompt_number": 25
    },
    {
     "cell_type": "code",
     "collapsed": false,
     "input": [
      "fit.distribution_compare('power_law', 'lognormal')"
     ],
     "language": "python",
     "metadata": {},
     "outputs": [
      {
       "metadata": {},
       "output_type": "pyout",
       "prompt_number": 26,
       "text": [
        "(0.92801788116326467, 0.42584569440336023)"
       ]
      }
     ],
     "prompt_number": 26
    },
    {
     "cell_type": "code",
     "collapsed": false,
     "input": [
      "fit.xmin"
     ],
     "language": "python",
     "metadata": {},
     "outputs": [
      {
       "metadata": {},
       "output_type": "pyout",
       "prompt_number": 27,
       "text": [
        "7.0"
       ]
      }
     ],
     "prompt_number": 27
    },
    {
     "cell_type": "code",
     "collapsed": false,
     "input": [
      "fit.alpha"
     ],
     "language": "python",
     "metadata": {},
     "outputs": [
      {
       "metadata": {},
       "output_type": "pyout",
       "prompt_number": 28,
       "text": [
        "1.9501572269094178"
       ]
      }
     ],
     "prompt_number": 28
    },
    {
     "cell_type": "code",
     "collapsed": false,
     "input": [],
     "language": "python",
     "metadata": {},
     "outputs": []
    }
   ],
   "metadata": {}
  }
 ]
}