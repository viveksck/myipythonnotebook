{
 "metadata": {
  "name": ""
 },
 "nbformat": 3,
 "nbformat_minor": 0,
 "worksheets": [
  {
   "cells": [
    {
     "cell_type": "code",
     "collapsed": false,
     "input": [
      "import sklearn \n",
      "import numpy as np\n",
      "from vowpal_porpoise.sklearn import VW_Classifier\n",
      "from time import time"
     ],
     "language": "python",
     "metadata": {},
     "outputs": [],
     "prompt_number": 1
    },
    {
     "cell_type": "code",
     "collapsed": false,
     "input": [
      "def GetFeaturesAndLabelsFromTSV(data):\n",
      "   #The labels are the first column. Everything else are features\n",
      "   features = data[:, 2:]\n",
      "   target_labels = data[:, 1]\n",
      "   return features, target_labels\n",
      "\n",
      "def ConvertToVW(X):\n",
      "    n_samples, n_features = np.shape(X)\n",
      "    result = []\n",
      "    for i in range(n_samples):\n",
      "        result.append({                   \n",
      "                       str(j): X[i, j]\n",
      "                       for j in range(n_features)\n",
      "                      })\n",
      "    return result\n",
      "\n"
     ],
     "language": "python",
     "metadata": {},
     "outputs": [],
     "prompt_number": 2
    },
    {
     "cell_type": "code",
     "collapsed": false,
     "input": [
      "training_data_file = \"/home/vvkulkarni/polyglot-acl/ner/en/conll_build/examples/eng_train.txt\""
     ],
     "language": "python",
     "metadata": {},
     "outputs": [],
     "prompt_number": 3
    },
    {
     "cell_type": "code",
     "collapsed": false,
     "input": [
      "start = time()\n",
      "data = numpy.genfromtxt(training_data_file,comments='!@#$%^')\n",
      "print \"Loaded data in %f\" % (time() - start)"
     ],
     "language": "python",
     "metadata": {},
     "outputs": [
      {
       "output_type": "stream",
       "stream": "stdout",
       "text": [
        "Loaded data in 87.959812\n"
       ]
      }
     ],
     "prompt_number": 4
    },
    {
     "cell_type": "code",
     "collapsed": false,
     "input": [
      "features, labels = GetFeaturesAndLabelsFromTSV(data)"
     ],
     "language": "python",
     "metadata": {},
     "outputs": [],
     "prompt_number": 5
    },
    {
     "cell_type": "code",
     "collapsed": false,
     "input": [
      "features = ConvertToVW(features)"
     ],
     "language": "python",
     "metadata": {},
     "outputs": [],
     "prompt_number": 10
    },
    {
     "cell_type": "code",
     "collapsed": false,
     "input": [
      "clf = VW_Classifier(nn = 32,\n",
      "                    loss='hinge', \n",
      "                    moniker='vw_sklearn',\n",
      "                    passes=10, \n",
      "                    silent=True, \n",
      "                    oaa=6,\n",
      "                    adaptive=True,\n",
      "                    working_dir='/scratch1/vivek/')"
     ],
     "language": "python",
     "metadata": {},
     "outputs": [],
     "prompt_number": 18
    },
    {
     "cell_type": "code",
     "collapsed": false,
     "input": [
      "#Fit to training data\n",
      "start = time()\n",
      "clf.fit(features, labels)\n",
      "print \"Done training in %f\" % (time() -start)"
     ],
     "language": "python",
     "metadata": {},
     "outputs": [
      {
       "output_type": "stream",
       "stream": "stdout",
       "text": [
        "[DEBUG] No existing model file or not options.incremental\n",
        "[DEBUG] Running command: \"vw --learning_rate=10.000000 --loss_function=hinge --oaa=6 --nn=32 --passes 10 --cache_file /scratch1/vivek/vw_sklearn.cache -f /scratch1/vivek/vw_sklearn.model\"\n",
        "Done training in 549.328216"
       ]
      },
      {
       "output_type": "stream",
       "stream": "stdout",
       "text": [
        "\n"
       ]
      }
     ],
     "prompt_number": 19
    },
    {
     "cell_type": "code",
     "collapsed": false,
     "input": [
      "start = time()\n",
      "y_pred = clf.predict(features)\n",
      "print \"Done predicting on training data %f\" % (time() -start)\n"
     ],
     "language": "python",
     "metadata": {},
     "outputs": [
      {
       "output_type": "stream",
       "stream": "stdout",
       "text": [
        "[DEBUG] Running command: \"vw --learning_rate=10.000000 --loss_function=hinge --oaa=6 --nn=32 -t -i /scratch1/vivek/vw_sklearn.model -p /scratch1/vivek/vw_sklearn.predictionaF2aC4\"\n",
        "Done predicting on training data 94.136806"
       ]
      },
      {
       "output_type": "stream",
       "stream": "stdout",
       "text": [
        "\n"
       ]
      }
     ],
     "prompt_number": 20
    },
    {
     "cell_type": "code",
     "collapsed": false,
     "input": [
      "from sklearn.metrics import precision_score\n",
      "print precision_score(labels, y_pred)\n",
      "print np.shape(features)"
     ],
     "language": "python",
     "metadata": {},
     "outputs": [
      {
       "output_type": "stream",
       "stream": "stdout",
       "text": [
        "0.981048125632\n",
        "(203621,)"
       ]
      },
      {
       "output_type": "stream",
       "stream": "stdout",
       "text": [
        "\n"
       ]
      }
     ],
     "prompt_number": 23
    },
    {
     "cell_type": "code",
     "collapsed": false,
     "input": [
      "import copy_reg\n",
      "from types import FunctionType, FileType, MethodType\n",
      "def stub_pickler(obj):\n",
      "    return stub_unpickler, ()\n",
      "def stub_unpickler():\n",
      "    return \"STUB\"\n",
      "\n",
      "copy_reg.pickle(MethodType, stub_pickler, stub_unpickler)\n",
      "copy_reg.pickle(FileType,   stub_pickler, stub_unpickler)\n",
      "\n",
      "import pickle \n",
      "\n",
      "pickle.dump(clf, open('mydump.pkl','wb'))\n"
     ],
     "language": "python",
     "metadata": {},
     "outputs": [],
     "prompt_number": 29
    },
    {
     "cell_type": "code",
     "collapsed": false,
     "input": [
      "clf1 = pickle.load(open('mydump.pkl'))"
     ],
     "language": "python",
     "metadata": {},
     "outputs": [],
     "prompt_number": 30
    },
    {
     "cell_type": "code",
     "collapsed": false,
     "input": [
      "start = time()\n",
      "y_pred1 = clf1.predict(features)\n",
      "print \"Done predicting on training data %f\" % (time() -start)"
     ],
     "language": "python",
     "metadata": {},
     "outputs": [
      {
       "output_type": "stream",
       "stream": "stdout",
       "text": [
        "[DEBUG] Running command: \"vw --learning_rate=10.000000 --loss_function=hinge --oaa=6 --nn=32 -t -i /scratch1/vivek/vw_sklearn.model -p /scratch1/vivek/vw_sklearn.predictionGfLlRM\"\n",
        "Done predicting on training data 94.523987"
       ]
      },
      {
       "output_type": "stream",
       "stream": "stdout",
       "text": [
        "\n"
       ]
      }
     ],
     "prompt_number": 31
    },
    {
     "cell_type": "code",
     "collapsed": false,
     "input": [],
     "language": "python",
     "metadata": {},
     "outputs": [
      {
       "output_type": "stream",
       "stream": "stdout",
       "text": [
        "203621\n"
       ]
      }
     ],
     "prompt_number": 33
    },
    {
     "cell_type": "code",
     "collapsed": false,
     "input": [],
     "language": "python",
     "metadata": {},
     "outputs": []
    }
   ],
   "metadata": {}
  }
 ]
}